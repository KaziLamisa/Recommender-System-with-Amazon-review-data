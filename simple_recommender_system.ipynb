{
 "cells": [
  {
   "cell_type": "code",
   "execution_count": 1,
   "metadata": {},
   "outputs": [],
   "source": [
    "import sys,os\n",
    "import argparse\n",
    "import pandas as pd\n",
    "import numpy as np\n",
    "import matplotlib.pyplot as plt\n",
    "from surprise import Dataset\n",
    "from surprise import Reader\n",
    "from surprise import KNNWithMeans\n",
    "from surprise import SVD\n",
    "from surprise.model_selection import train_test_split\n",
    "from surprise import accuracy\n",
    "from surprise.model_selection import GridSearchCV,cross_validate"
   ]
  },
  {
   "cell_type": "code",
   "execution_count": 2,
   "metadata": {},
   "outputs": [
    {
     "name": "stdout",
     "output_type": "stream",
     "text": [
      "input taken.. Electronics.csv\n"
     ]
    }
   ],
   "source": [
    "CONFIG_FILE = '.config_ipynb'\n",
    "if os.path.isfile(CONFIG_FILE):\n",
    "    with open(CONFIG_FILE) as f:\n",
    "        sys.argv = f.read().split()\n",
    "else:\n",
    "    sys.argv = ['script.py', 'input_file']\n",
    "\n",
    "parser = argparse.ArgumentParser()\n",
    "parser.add_argument(\"input_file\",help=\"input folder location\", type=str)\n",
    "args = parser.parse_args()\n",
    "\n",
    "input_file = \" \"\n",
    "\n",
    "if args.input_file not in  [None, \"\"]:\n",
    "    input_file = args.input_file\n",
    "    print(\"input taken..\", args.input_file)\n",
    "    \n"
   ]
  },
  {
   "cell_type": "code",
   "execution_count": 3,
   "metadata": {},
   "outputs": [
    {
     "data": {
      "text/html": [
       "<div>\n",
       "<style scoped>\n",
       "    .dataframe tbody tr th:only-of-type {\n",
       "        vertical-align: middle;\n",
       "    }\n",
       "\n",
       "    .dataframe tbody tr th {\n",
       "        vertical-align: top;\n",
       "    }\n",
       "\n",
       "    .dataframe thead th {\n",
       "        text-align: right;\n",
       "    }\n",
       "</style>\n",
       "<table border=\"1\" class=\"dataframe\">\n",
       "  <thead>\n",
       "    <tr style=\"text-align: right;\">\n",
       "      <th></th>\n",
       "      <th>user_id</th>\n",
       "      <th>product_id</th>\n",
       "      <th>ratings</th>\n",
       "      <th>timestamp</th>\n",
       "    </tr>\n",
       "  </thead>\n",
       "  <tbody>\n",
       "    <tr>\n",
       "      <th>0</th>\n",
       "      <td>0060009810</td>\n",
       "      <td>A1N070NS9CJQ2I</td>\n",
       "      <td>5.0</td>\n",
       "      <td>1026864000</td>\n",
       "    </tr>\n",
       "    <tr>\n",
       "      <th>1</th>\n",
       "      <td>0060009810</td>\n",
       "      <td>A3P0KRKOBQK1KN</td>\n",
       "      <td>5.0</td>\n",
       "      <td>1025913600</td>\n",
       "    </tr>\n",
       "    <tr>\n",
       "      <th>2</th>\n",
       "      <td>0060009810</td>\n",
       "      <td>A192HO2ICJ75VU</td>\n",
       "      <td>5.0</td>\n",
       "      <td>1025654400</td>\n",
       "    </tr>\n",
       "    <tr>\n",
       "      <th>3</th>\n",
       "      <td>0060009810</td>\n",
       "      <td>A2T278FKFL3BLT</td>\n",
       "      <td>4.0</td>\n",
       "      <td>1025395200</td>\n",
       "    </tr>\n",
       "    <tr>\n",
       "      <th>4</th>\n",
       "      <td>0060009810</td>\n",
       "      <td>A2ZUXVTW8RXBXW</td>\n",
       "      <td>5.0</td>\n",
       "      <td>1025222400</td>\n",
       "    </tr>\n",
       "    <tr>\n",
       "      <th>5</th>\n",
       "      <td>0060009810</td>\n",
       "      <td>A21JDG4HA6OLPF</td>\n",
       "      <td>4.0</td>\n",
       "      <td>1024963200</td>\n",
       "    </tr>\n",
       "    <tr>\n",
       "      <th>6</th>\n",
       "      <td>0060009810</td>\n",
       "      <td>A2NCADLQY962YD</td>\n",
       "      <td>5.0</td>\n",
       "      <td>1024704000</td>\n",
       "    </tr>\n",
       "    <tr>\n",
       "      <th>7</th>\n",
       "      <td>0060786817</td>\n",
       "      <td>A2UNA438B0FRA8</td>\n",
       "      <td>5.0</td>\n",
       "      <td>1138233600</td>\n",
       "    </tr>\n",
       "    <tr>\n",
       "      <th>8</th>\n",
       "      <td>0060786817</td>\n",
       "      <td>A2NQQSHSQKKGEX</td>\n",
       "      <td>5.0</td>\n",
       "      <td>1137801600</td>\n",
       "    </tr>\n",
       "    <tr>\n",
       "      <th>9</th>\n",
       "      <td>0060786817</td>\n",
       "      <td>A5EXND10WD4PM</td>\n",
       "      <td>3.0</td>\n",
       "      <td>1137542400</td>\n",
       "    </tr>\n",
       "  </tbody>\n",
       "</table>\n",
       "</div>"
      ],
      "text/plain": [
       "      user_id      product_id  ratings   timestamp\n",
       "0  0060009810  A1N070NS9CJQ2I      5.0  1026864000\n",
       "1  0060009810  A3P0KRKOBQK1KN      5.0  1025913600\n",
       "2  0060009810  A192HO2ICJ75VU      5.0  1025654400\n",
       "3  0060009810  A2T278FKFL3BLT      4.0  1025395200\n",
       "4  0060009810  A2ZUXVTW8RXBXW      5.0  1025222400\n",
       "5  0060009810  A21JDG4HA6OLPF      4.0  1024963200\n",
       "6  0060009810  A2NCADLQY962YD      5.0  1024704000\n",
       "7  0060786817  A2UNA438B0FRA8      5.0  1138233600\n",
       "8  0060786817  A2NQQSHSQKKGEX      5.0  1137801600\n",
       "9  0060786817   A5EXND10WD4PM      3.0  1137542400"
      ]
     },
     "execution_count": 3,
     "metadata": {},
     "output_type": "execute_result"
    }
   ],
   "source": [
    "df=pd.read_csv(input_file,names=[\"user_id\", \"product_id\", \"ratings\", \"timestamp\"])\n",
    "df.head(10)"
   ]
  },
  {
   "cell_type": "code",
   "execution_count": 4,
   "metadata": {},
   "outputs": [
    {
     "name": "stdout",
     "output_type": "stream",
     "text": [
      "(20994353, 3)\n"
     ]
    },
    {
     "data": {
      "text/plain": [
       "user_id       0\n",
       "product_id    0\n",
       "ratings       0\n",
       "dtype: int64"
      ]
     },
     "execution_count": 4,
     "metadata": {},
     "output_type": "execute_result"
    }
   ],
   "source": [
    "#drop timestamp column\n",
    "df.drop(['timestamp'], axis=1,inplace=True)\n",
    "\n",
    "print(df.shape)\n",
    "\n",
    "#check for missing values\n",
    "df.isna().sum()"
   ]
  },
  {
   "cell_type": "code",
   "execution_count": 5,
   "metadata": {},
   "outputs": [
    {
     "data": {
      "text/plain": [
       "(1048576, 3)"
      ]
     },
     "execution_count": 5,
     "metadata": {},
     "output_type": "execute_result"
    }
   ],
   "source": [
    "df=df.iloc[:1048576,0:]\n",
    "df.shape"
   ]
  },
  {
   "cell_type": "code",
   "execution_count": 6,
   "metadata": {},
   "outputs": [
    {
     "name": "stdout",
     "output_type": "stream",
     "text": [
      "number of unique users: 12759\n",
      "number of unique products: 824624\n"
     ]
    }
   ],
   "source": [
    "# number of unique users\n",
    "print(\"number of unique users: \"+str(len(df.user_id.unique())))\n",
    "#number of unique products\n",
    "print(\"number of unique products: \"+str(len(df.product_id.unique())))"
   ]
  },
  {
   "cell_type": "code",
   "execution_count": 7,
   "metadata": {},
   "outputs": [
    {
     "data": {
      "text/plain": [
       "A5JLAU2ARJ0BO     241\n",
       "A231WM2Z2JL0U3    172\n",
       "A6FIAB28IS79       88\n",
       "AT6CZDCP4TRGA      79\n",
       "A3OXHLG6DIBRW8     63\n",
       "Name: product_id, dtype: int64"
      ]
     },
     "execution_count": 7,
     "metadata": {},
     "output_type": "execute_result"
    }
   ],
   "source": [
    "#no of ratings per product\n",
    "df.product_id.value_counts()[:5]"
   ]
  },
  {
   "cell_type": "code",
   "execution_count": 8,
   "metadata": {},
   "outputs": [
    {
     "data": {
      "text/html": [
       "<div>\n",
       "<style scoped>\n",
       "    .dataframe tbody tr th:only-of-type {\n",
       "        vertical-align: middle;\n",
       "    }\n",
       "\n",
       "    .dataframe tbody tr th {\n",
       "        vertical-align: top;\n",
       "    }\n",
       "\n",
       "    .dataframe thead th {\n",
       "        text-align: right;\n",
       "    }\n",
       "</style>\n",
       "<table border=\"1\" class=\"dataframe\">\n",
       "  <thead>\n",
       "    <tr style=\"text-align: right;\">\n",
       "      <th></th>\n",
       "      <th>ratings</th>\n",
       "    </tr>\n",
       "    <tr>\n",
       "      <th>product_id</th>\n",
       "      <th></th>\n",
       "    </tr>\n",
       "  </thead>\n",
       "  <tbody>\n",
       "    <tr>\n",
       "      <th>A0004478EF5NFPHLGCWG</th>\n",
       "      <td>1</td>\n",
       "    </tr>\n",
       "    <tr>\n",
       "      <th>A000681618A3WRMCK53V</th>\n",
       "      <td>1</td>\n",
       "    </tr>\n",
       "    <tr>\n",
       "      <th>A0008898NGEXICE0F146</th>\n",
       "      <td>2</td>\n",
       "    </tr>\n",
       "    <tr>\n",
       "      <th>A00101847G3FJTWYGNQA</th>\n",
       "      <td>1</td>\n",
       "    </tr>\n",
       "    <tr>\n",
       "      <th>A0010606488RW7ZH6EP7</th>\n",
       "      <td>1</td>\n",
       "    </tr>\n",
       "  </tbody>\n",
       "</table>\n",
       "</div>"
      ],
      "text/plain": [
       "                      ratings\n",
       "product_id                   \n",
       "A0004478EF5NFPHLGCWG        1\n",
       "A000681618A3WRMCK53V        1\n",
       "A0008898NGEXICE0F146        2\n",
       "A00101847G3FJTWYGNQA        1\n",
       "A0010606488RW7ZH6EP7        1"
      ]
     },
     "execution_count": 8,
     "metadata": {},
     "output_type": "execute_result"
    }
   ],
   "source": [
    "products=pd.DataFrame(df.groupby('product_id')['ratings'].count())\n",
    "products.head()"
   ]
  },
  {
   "cell_type": "code",
   "execution_count": 9,
   "metadata": {},
   "outputs": [
    {
     "data": {
      "text/plain": [
       "<matplotlib.axes._subplots.AxesSubplot at 0x1fa00630a60>"
      ]
     },
     "execution_count": 9,
     "metadata": {},
     "output_type": "execute_result"
    },
    {
     "data": {
      "image/png": "[encoded data removed]",
      "text/plain": [
       "<Figure size 576x432 with 1 Axes>"
      ]
     },
     "metadata": {
      "needs_background": "light"
     },
     "output_type": "display_data"
    }
   ],
   "source": [
    "plt.figure(figsize=(8,6))\n",
    "plt.rcParams['patch.force_edgecolor'] = True\n",
    "plt.title('no. of ratings per product')\n",
    "products['ratings'].hist(bins=50)"
   ]
  },
  {
   "cell_type": "code",
   "execution_count": 10,
   "metadata": {},
   "outputs": [
    {
     "data": {
      "text/plain": [
       "B000BQ7GW8    13768\n",
       "B0006BB9MG     7593\n",
       "B000A6PPOK     6398\n",
       "B00004ZCJI     5697\n",
       "B00004ZCJJ     5697\n",
       "Name: user_id, dtype: int64"
      ]
     },
     "execution_count": 10,
     "metadata": {},
     "output_type": "execute_result"
    }
   ],
   "source": [
    "df.user_id.value_counts()[:5]"
   ]
  },
  {
   "cell_type": "code",
   "execution_count": 11,
   "metadata": {},
   "outputs": [
    {
     "data": {
      "text/html": [
       "<div>\n",
       "<style scoped>\n",
       "    .dataframe tbody tr th:only-of-type {\n",
       "        vertical-align: middle;\n",
       "    }\n",
       "\n",
       "    .dataframe tbody tr th {\n",
       "        vertical-align: top;\n",
       "    }\n",
       "\n",
       "    .dataframe thead th {\n",
       "        text-align: right;\n",
       "    }\n",
       "</style>\n",
       "<table border=\"1\" class=\"dataframe\">\n",
       "  <thead>\n",
       "    <tr style=\"text-align: right;\">\n",
       "      <th></th>\n",
       "      <th>ratings</th>\n",
       "    </tr>\n",
       "    <tr>\n",
       "      <th>user_id</th>\n",
       "      <th></th>\n",
       "    </tr>\n",
       "  </thead>\n",
       "  <tbody>\n",
       "    <tr>\n",
       "      <th>0060009810</th>\n",
       "      <td>7</td>\n",
       "    </tr>\n",
       "    <tr>\n",
       "      <th>0060786817</th>\n",
       "      <td>45</td>\n",
       "    </tr>\n",
       "    <tr>\n",
       "      <th>0070524076</th>\n",
       "      <td>12</td>\n",
       "    </tr>\n",
       "    <tr>\n",
       "      <th>0101635370</th>\n",
       "      <td>68</td>\n",
       "    </tr>\n",
       "    <tr>\n",
       "      <th>0151004714</th>\n",
       "      <td>48</td>\n",
       "    </tr>\n",
       "  </tbody>\n",
       "</table>\n",
       "</div>"
      ],
      "text/plain": [
       "            ratings\n",
       "user_id            \n",
       "0060009810        7\n",
       "0060786817       45\n",
       "0070524076       12\n",
       "0101635370       68\n",
       "0151004714       48"
      ]
     },
     "execution_count": 11,
     "metadata": {},
     "output_type": "execute_result"
    }
   ],
   "source": [
    "users=pd.DataFrame(df.groupby('user_id')['ratings'].count())\n",
    "users.head()"
   ]
  },
  {
   "cell_type": "code",
   "execution_count": 12,
   "metadata": {},
   "outputs": [
    {
     "data": {
      "text/plain": [
       "<matplotlib.axes._subplots.AxesSubplot at 0x1fa0167e850>"
      ]
     },
     "execution_count": 12,
     "metadata": {},
     "output_type": "execute_result"
    },
    {
     "data": {
      "image/png": "[encoded data removed]",
      "text/plain": [
       "<Figure size 576x432 with 1 Axes>"
      ]
     },
     "metadata": {
      "needs_background": "light"
     },
     "output_type": "display_data"
    }
   ],
   "source": [
    "plt.figure(figsize=(8,6))\n",
    "plt.rcParams['patch.force_edgecolor'] = True\n",
    "plt.title('no. of ratings per user')\n",
    "users['ratings'].hist(bins=50)"
   ]
  },
  {
   "cell_type": "code",
   "execution_count": 13,
   "metadata": {},
   "outputs": [
    {
     "data": {
      "image/png": "[encoded data removed]",
      "text/plain": [
       "<Figure size 432x288 with 1 Axes>"
      ]
     },
     "metadata": {
      "needs_background": "light"
     },
     "output_type": "display_data"
    }
   ],
   "source": [
    "#distribution of ratings\n",
    "plt.hist(df.ratings, bins = [1,2,3,4,5],ec='black') \n",
    "plt.title(\"ratings_histogram\") \n",
    "plt.show()"
   ]
  },
  {
   "cell_type": "code",
   "execution_count": 14,
   "metadata": {},
   "outputs": [],
   "source": [
    "#filter out products with less than 20 reviews\n",
    "ratings_df=df.groupby('product_id').filter(lambda x: x['ratings'].count()>20)"
   ]
  },
  {
   "cell_type": "code",
   "execution_count": 15,
   "metadata": {},
   "outputs": [],
   "source": [
    "## item_based colleaborative filtering\n",
    "##memory based algorithm\n",
    "reader = Reader(rating_scale=(1, 5))\n",
    "data = Dataset.load_from_df(ratings_df[[\"user_id\", \"product_id\", \"ratings\"]], reader)"
   ]
  },
  {
   "cell_type": "code",
   "execution_count": 16,
   "metadata": {},
   "outputs": [],
   "source": [
    "#split data\n",
    "train_data, test_data = train_test_split(data, test_size=0.3,random_state=10)"
   ]
  },
  {
   "cell_type": "code",
   "execution_count": 17,
   "metadata": {},
   "outputs": [
    {
     "name": "stdout",
     "output_type": "stream",
     "text": [
      "Computing the msd similarity matrix...\n",
      "Done computing similarity matrix.\n",
      "Computing the msd similarity matrix...\n",
      "Done computing similarity matrix.\n",
      "Computing the msd similarity matrix...\n",
      "Done computing similarity matrix.\n",
      "Computing the msd similarity matrix...\n",
      "Done computing similarity matrix.\n",
      "Computing the msd similarity matrix...\n",
      "Done computing similarity matrix.\n",
      "Computing the msd similarity matrix...\n",
      "Done computing similarity matrix.\n",
      "Computing the msd similarity matrix...\n",
      "Done computing similarity matrix.\n",
      "Computing the msd similarity matrix...\n",
      "Done computing similarity matrix.\n",
      "Computing the msd similarity matrix...\n",
      "Done computing similarity matrix.\n",
      "Computing the msd similarity matrix...\n",
      "Done computing similarity matrix.\n",
      "Computing the msd similarity matrix...\n",
      "Done computing similarity matrix.\n",
      "Computing the msd similarity matrix...\n",
      "Done computing similarity matrix.\n",
      "Computing the msd similarity matrix...\n",
      "Done computing similarity matrix.\n",
      "Computing the msd similarity matrix...\n",
      "Done computing similarity matrix.\n",
      "Computing the msd similarity matrix...\n",
      "Done computing similarity matrix.\n",
      "Computing the msd similarity matrix...\n",
      "Done computing similarity matrix.\n",
      "Computing the msd similarity matrix...\n",
      "Done computing similarity matrix.\n",
      "Computing the msd similarity matrix...\n",
      "Done computing similarity matrix.\n",
      "Computing the cosine similarity matrix...\n",
      "Done computing similarity matrix.\n",
      "Computing the cosine similarity matrix...\n",
      "Done computing similarity matrix.\n",
      "Computing the cosine similarity matrix...\n",
      "Done computing similarity matrix.\n",
      "Computing the cosine similarity matrix...\n",
      "Done computing similarity matrix.\n",
      "Computing the cosine similarity matrix...\n",
      "Done computing similarity matrix.\n",
      "Computing the cosine similarity matrix...\n",
      "Done computing similarity matrix.\n",
      "Computing the cosine similarity matrix...\n",
      "Done computing similarity matrix.\n",
      "Computing the cosine similarity matrix...\n",
      "Done computing similarity matrix.\n",
      "Computing the cosine similarity matrix...\n",
      "Done computing similarity matrix.\n",
      "Computing the cosine similarity matrix...\n",
      "Done computing similarity matrix.\n",
      "Computing the cosine similarity matrix...\n",
      "Done computing similarity matrix.\n",
      "Computing the cosine similarity matrix...\n",
      "Done computing similarity matrix.\n",
      "Computing the cosine similarity matrix...\n",
      "Done computing similarity matrix.\n",
      "Computing the cosine similarity matrix...\n",
      "Done computing similarity matrix.\n",
      "Computing the cosine similarity matrix...\n",
      "Done computing similarity matrix.\n",
      "Computing the cosine similarity matrix...\n",
      "Done computing similarity matrix.\n",
      "Computing the cosine similarity matrix...\n",
      "Done computing similarity matrix.\n",
      "Computing the cosine similarity matrix...\n",
      "Done computing similarity matrix.\n"
     ]
    }
   ],
   "source": [
    "#tuning hyper parameters\n",
    "similarity_options = {\n",
    "    \"name\": [\"msd\", \"cosine\"],\n",
    "    \"min_support\": [3, 4, 5],\n",
    "    \"user_based\": [False, True],\n",
    "}\n",
    "param_grid = {\"sim_options\": similarity_options}\n",
    "grid_search = GridSearchCV(KNNWithMeans, param_grid, measures=[\"rmse\", \"mae\"], cv=3)\n",
    "grid_search.fit(data)"
   ]
  },
  {
   "cell_type": "code",
   "execution_count": 18,
   "metadata": {},
   "outputs": [
    {
     "name": "stdout",
     "output_type": "stream",
     "text": [
      "1.0378244931897005\n",
      "{'sim_options': {'name': 'msd', 'min_support': 4, 'user_based': False}}\n"
     ]
    }
   ],
   "source": [
    "print(grid_search.best_score[\"rmse\"])\n",
    "print(grid_search.best_params[\"rmse\"])"
   ]
  },
  {
   "cell_type": "code",
   "execution_count": 19,
   "metadata": {},
   "outputs": [],
   "source": [
    "\n",
    "sim_options = {\n",
    "    \"name\": \"msd\",\n",
    "    \"user_based\": False,  # Compute  similarities between items\n",
    "    \"min_support\": 5\n",
    "}\n",
    "algo = KNNWithMeans(sim_options=sim_options)"
   ]
  },
  {
   "cell_type": "code",
   "execution_count": 20,
   "metadata": {},
   "outputs": [
    {
     "name": "stdout",
     "output_type": "stream",
     "text": [
      "Computing the msd similarity matrix...\n",
      "Done computing similarity matrix.\n",
      "RMSE: 1.0110\n"
     ]
    },
    {
     "data": {
      "text/plain": [
       "1.0109911818184498"
      ]
     },
     "execution_count": 20,
     "metadata": {},
     "output_type": "execute_result"
    }
   ],
   "source": [
    "algo.fit(train_data)\n",
    "predictions=algo.test(test_data)\n",
    "accuracy.rmse(predictions)"
   ]
  },
  {
   "cell_type": "code",
   "execution_count": 21,
   "metadata": {},
   "outputs": [
    {
     "data": {
      "text/html": [
       "<div>\n",
       "<style scoped>\n",
       "    .dataframe tbody tr th:only-of-type {\n",
       "        vertical-align: middle;\n",
       "    }\n",
       "\n",
       "    .dataframe tbody tr th {\n",
       "        vertical-align: top;\n",
       "    }\n",
       "\n",
       "    .dataframe thead th {\n",
       "        text-align: right;\n",
       "    }\n",
       "</style>\n",
       "<table border=\"1\" class=\"dataframe\">\n",
       "  <thead>\n",
       "    <tr style=\"text-align: right;\">\n",
       "      <th></th>\n",
       "      <th>uid</th>\n",
       "      <th>iid</th>\n",
       "      <th>rui</th>\n",
       "      <th>est</th>\n",
       "      <th>details</th>\n",
       "    </tr>\n",
       "  </thead>\n",
       "  <tbody>\n",
       "    <tr>\n",
       "      <th>0</th>\n",
       "      <td>B0002Z240W</td>\n",
       "      <td>A2R6RA8FRBS608</td>\n",
       "      <td>5.0</td>\n",
       "      <td>4.320545</td>\n",
       "      <td>{'was_impossible': True, 'reason': 'User and/o...</td>\n",
       "    </tr>\n",
       "    <tr>\n",
       "      <th>1</th>\n",
       "      <td>B000B8UOTS</td>\n",
       "      <td>A2JRDFIGWTX50J</td>\n",
       "      <td>3.0</td>\n",
       "      <td>3.736842</td>\n",
       "      <td>{'actual_k': 0, 'was_impossible': False}</td>\n",
       "    </tr>\n",
       "    <tr>\n",
       "      <th>2</th>\n",
       "      <td>B0000BVYT3</td>\n",
       "      <td>A1T1YSCDW0PD25</td>\n",
       "      <td>5.0</td>\n",
       "      <td>4.208333</td>\n",
       "      <td>{'actual_k': 0, 'was_impossible': False}</td>\n",
       "    </tr>\n",
       "    <tr>\n",
       "      <th>3</th>\n",
       "      <td>B00009UTZA</td>\n",
       "      <td>A1H4WLPFV59XMA</td>\n",
       "      <td>5.0</td>\n",
       "      <td>5.000000</td>\n",
       "      <td>{'actual_k': 0, 'was_impossible': False}</td>\n",
       "    </tr>\n",
       "    <tr>\n",
       "      <th>4</th>\n",
       "      <td>B00006J055</td>\n",
       "      <td>AT6CZDCP4TRGA</td>\n",
       "      <td>1.0</td>\n",
       "      <td>4.320545</td>\n",
       "      <td>{'was_impossible': True, 'reason': 'User and/o...</td>\n",
       "    </tr>\n",
       "  </tbody>\n",
       "</table>\n",
       "</div>"
      ],
      "text/plain": [
       "          uid             iid  rui       est  \\\n",
       "0  B0002Z240W  A2R6RA8FRBS608  5.0  4.320545   \n",
       "1  B000B8UOTS  A2JRDFIGWTX50J  3.0  3.736842   \n",
       "2  B0000BVYT3  A1T1YSCDW0PD25  5.0  4.208333   \n",
       "3  B00009UTZA  A1H4WLPFV59XMA  5.0  5.000000   \n",
       "4  B00006J055   AT6CZDCP4TRGA  1.0  4.320545   \n",
       "\n",
       "                                             details  \n",
       "0  {'was_impossible': True, 'reason': 'User and/o...  \n",
       "1           {'actual_k': 0, 'was_impossible': False}  \n",
       "2           {'actual_k': 0, 'was_impossible': False}  \n",
       "3           {'actual_k': 0, 'was_impossible': False}  \n",
       "4  {'was_impossible': True, 'reason': 'User and/o...  "
      ]
     },
     "execution_count": 21,
     "metadata": {},
     "output_type": "execute_result"
    }
   ],
   "source": [
    "predicted_df = pd.DataFrame(predictions, columns=['uid', 'iid', 'rui', 'est', 'details'])\n",
    "predicted_df.head(5)"
   ]
  },
  {
   "cell_type": "code",
   "execution_count": 22,
   "metadata": {},
   "outputs": [],
   "source": [
    "def get_Iu(uid):\n",
    "    #computes the number of items rated by the user\n",
    "    \n",
    "    try:\n",
    "        return len(train_data.ur[train_data.to_inner_uid(uid)])\n",
    "    except ValueError: # user was not part of the trainset\n",
    "        return 0\n",
    "    \n",
    "def get_Ui(iid):\n",
    "    #computes the number of users that have rated the item.\n",
    "    \n",
    "    try: \n",
    "        return len(train_data.ir[train_data.to_inner_iid(iid)])\n",
    "    except ValueError:\n",
    "        return 0"
   ]
  },
  {
   "cell_type": "code",
   "execution_count": 23,
   "metadata": {},
   "outputs": [],
   "source": [
    "predicted_df['Iu'] = predicted_df.uid.apply(get_Iu)\n",
    "predicted_df['Ui'] = predicted_df.iid.apply(get_Ui)\n",
    "predicted_df['err'] = abs(predicted_df.est - predicted_df.rui)\n",
    "best_predictions = predicted_df.sort_values(by='err')[:10]\n",
    "worst_predictions = predicted_df.sort_values(by='err')[-10:]"
   ]
  },
  {
   "cell_type": "code",
   "execution_count": 24,
   "metadata": {},
   "outputs": [
    {
     "name": "stdout",
     "output_type": "stream",
     "text": [
      "best predictions: \n"
     ]
    },
    {
     "data": {
      "text/html": [
       "<div>\n",
       "<style scoped>\n",
       "    .dataframe tbody tr th:only-of-type {\n",
       "        vertical-align: middle;\n",
       "    }\n",
       "\n",
       "    .dataframe tbody tr th {\n",
       "        vertical-align: top;\n",
       "    }\n",
       "\n",
       "    .dataframe thead th {\n",
       "        text-align: right;\n",
       "    }\n",
       "</style>\n",
       "<table border=\"1\" class=\"dataframe\">\n",
       "  <thead>\n",
       "    <tr style=\"text-align: right;\">\n",
       "      <th></th>\n",
       "      <th>uid</th>\n",
       "      <th>iid</th>\n",
       "      <th>rui</th>\n",
       "      <th>est</th>\n",
       "      <th>details</th>\n",
       "      <th>Iu</th>\n",
       "      <th>Ui</th>\n",
       "      <th>err</th>\n",
       "    </tr>\n",
       "  </thead>\n",
       "  <tbody>\n",
       "    <tr>\n",
       "      <th>688</th>\n",
       "      <td>B00006I53S</td>\n",
       "      <td>A2LCE1D0TW2XY0</td>\n",
       "      <td>4.0</td>\n",
       "      <td>4.0</td>\n",
       "      <td>{'actual_k': 0, 'was_impossible': False}</td>\n",
       "      <td>3</td>\n",
       "      <td>15</td>\n",
       "      <td>0.0</td>\n",
       "    </tr>\n",
       "    <tr>\n",
       "      <th>212</th>\n",
       "      <td>B0002JFN60</td>\n",
       "      <td>A31N0XY2UTB25C</td>\n",
       "      <td>5.0</td>\n",
       "      <td>5.0</td>\n",
       "      <td>{'actual_k': 6, 'was_impossible': False}</td>\n",
       "      <td>6</td>\n",
       "      <td>36</td>\n",
       "      <td>0.0</td>\n",
       "    </tr>\n",
       "    <tr>\n",
       "      <th>1036</th>\n",
       "      <td>B00007M8H7</td>\n",
       "      <td>A1JZFGZEZVWQPY</td>\n",
       "      <td>5.0</td>\n",
       "      <td>5.0</td>\n",
       "      <td>{'actual_k': 1, 'was_impossible': False}</td>\n",
       "      <td>1</td>\n",
       "      <td>22</td>\n",
       "      <td>0.0</td>\n",
       "    </tr>\n",
       "    <tr>\n",
       "      <th>851</th>\n",
       "      <td>B0006BB9MG</td>\n",
       "      <td>A1T1YSCDW0PD25</td>\n",
       "      <td>5.0</td>\n",
       "      <td>5.0</td>\n",
       "      <td>{'actual_k': 1, 'was_impossible': False}</td>\n",
       "      <td>7</td>\n",
       "      <td>24</td>\n",
       "      <td>0.0</td>\n",
       "    </tr>\n",
       "    <tr>\n",
       "      <th>1126</th>\n",
       "      <td>B0009VT9O8</td>\n",
       "      <td>A3REK3OFONWB1Q</td>\n",
       "      <td>5.0</td>\n",
       "      <td>5.0</td>\n",
       "      <td>{'actual_k': 0, 'was_impossible': False}</td>\n",
       "      <td>3</td>\n",
       "      <td>14</td>\n",
       "      <td>0.0</td>\n",
       "    </tr>\n",
       "    <tr>\n",
       "      <th>1100</th>\n",
       "      <td>B0009VT9O8</td>\n",
       "      <td>A1QVFHPY8418HC</td>\n",
       "      <td>5.0</td>\n",
       "      <td>5.0</td>\n",
       "      <td>{'actual_k': 1, 'was_impossible': False}</td>\n",
       "      <td>3</td>\n",
       "      <td>14</td>\n",
       "      <td>0.0</td>\n",
       "    </tr>\n",
       "    <tr>\n",
       "      <th>947</th>\n",
       "      <td>B00067PS7W</td>\n",
       "      <td>A33775AIB1A664</td>\n",
       "      <td>4.0</td>\n",
       "      <td>4.0</td>\n",
       "      <td>{'actual_k': 3, 'was_impossible': False}</td>\n",
       "      <td>3</td>\n",
       "      <td>15</td>\n",
       "      <td>0.0</td>\n",
       "    </tr>\n",
       "    <tr>\n",
       "      <th>599</th>\n",
       "      <td>B00009XVA3</td>\n",
       "      <td>A2PSD2R9A1CXG7</td>\n",
       "      <td>5.0</td>\n",
       "      <td>5.0</td>\n",
       "      <td>{'actual_k': 1, 'was_impossible': False}</td>\n",
       "      <td>2</td>\n",
       "      <td>23</td>\n",
       "      <td>0.0</td>\n",
       "    </tr>\n",
       "    <tr>\n",
       "      <th>1154</th>\n",
       "      <td>B00005121B</td>\n",
       "      <td>A31N0XY2UTB25C</td>\n",
       "      <td>5.0</td>\n",
       "      <td>5.0</td>\n",
       "      <td>{'actual_k': 2, 'was_impossible': False}</td>\n",
       "      <td>2</td>\n",
       "      <td>36</td>\n",
       "      <td>0.0</td>\n",
       "    </tr>\n",
       "    <tr>\n",
       "      <th>314</th>\n",
       "      <td>B000068NYI</td>\n",
       "      <td>A6FIAB28IS79</td>\n",
       "      <td>5.0</td>\n",
       "      <td>5.0</td>\n",
       "      <td>{'actual_k': 1, 'was_impossible': False}</td>\n",
       "      <td>1</td>\n",
       "      <td>61</td>\n",
       "      <td>0.0</td>\n",
       "    </tr>\n",
       "  </tbody>\n",
       "</table>\n",
       "</div>"
      ],
      "text/plain": [
       "             uid             iid  rui  est  \\\n",
       "688   B00006I53S  A2LCE1D0TW2XY0  4.0  4.0   \n",
       "212   B0002JFN60  A31N0XY2UTB25C  5.0  5.0   \n",
       "1036  B00007M8H7  A1JZFGZEZVWQPY  5.0  5.0   \n",
       "851   B0006BB9MG  A1T1YSCDW0PD25  5.0  5.0   \n",
       "1126  B0009VT9O8  A3REK3OFONWB1Q  5.0  5.0   \n",
       "1100  B0009VT9O8  A1QVFHPY8418HC  5.0  5.0   \n",
       "947   B00067PS7W  A33775AIB1A664  4.0  4.0   \n",
       "599   B00009XVA3  A2PSD2R9A1CXG7  5.0  5.0   \n",
       "1154  B00005121B  A31N0XY2UTB25C  5.0  5.0   \n",
       "314   B000068NYI    A6FIAB28IS79  5.0  5.0   \n",
       "\n",
       "                                       details  Iu  Ui  err  \n",
       "688   {'actual_k': 0, 'was_impossible': False}   3  15  0.0  \n",
       "212   {'actual_k': 6, 'was_impossible': False}   6  36  0.0  \n",
       "1036  {'actual_k': 1, 'was_impossible': False}   1  22  0.0  \n",
       "851   {'actual_k': 1, 'was_impossible': False}   7  24  0.0  \n",
       "1126  {'actual_k': 0, 'was_impossible': False}   3  14  0.0  \n",
       "1100  {'actual_k': 1, 'was_impossible': False}   3  14  0.0  \n",
       "947   {'actual_k': 3, 'was_impossible': False}   3  15  0.0  \n",
       "599   {'actual_k': 1, 'was_impossible': False}   2  23  0.0  \n",
       "1154  {'actual_k': 2, 'was_impossible': False}   2  36  0.0  \n",
       "314   {'actual_k': 1, 'was_impossible': False}   1  61  0.0  "
      ]
     },
     "execution_count": 24,
     "metadata": {},
     "output_type": "execute_result"
    }
   ],
   "source": [
    "print(\"best predictions: \")\n",
    "best_predictions.head(10)"
   ]
  },
  {
   "cell_type": "code",
   "execution_count": 25,
   "metadata": {},
   "outputs": [
    {
     "name": "stdout",
     "output_type": "stream",
     "text": [
      "worst predictions: \n"
     ]
    },
    {
     "data": {
      "text/html": [
       "<div>\n",
       "<style scoped>\n",
       "    .dataframe tbody tr th:only-of-type {\n",
       "        vertical-align: middle;\n",
       "    }\n",
       "\n",
       "    .dataframe tbody tr th {\n",
       "        vertical-align: top;\n",
       "    }\n",
       "\n",
       "    .dataframe thead th {\n",
       "        text-align: right;\n",
       "    }\n",
       "</style>\n",
       "<table border=\"1\" class=\"dataframe\">\n",
       "  <thead>\n",
       "    <tr style=\"text-align: right;\">\n",
       "      <th></th>\n",
       "      <th>uid</th>\n",
       "      <th>iid</th>\n",
       "      <th>rui</th>\n",
       "      <th>est</th>\n",
       "      <th>details</th>\n",
       "      <th>Iu</th>\n",
       "      <th>Ui</th>\n",
       "      <th>err</th>\n",
       "    </tr>\n",
       "  </thead>\n",
       "  <tbody>\n",
       "    <tr>\n",
       "      <th>891</th>\n",
       "      <td>B0002G81J4</td>\n",
       "      <td>A5JLAU2ARJ0BO</td>\n",
       "      <td>1.0</td>\n",
       "      <td>4.320545</td>\n",
       "      <td>{'was_impossible': True, 'reason': 'User and/o...</td>\n",
       "      <td>0</td>\n",
       "      <td>158</td>\n",
       "      <td>3.320545</td>\n",
       "    </tr>\n",
       "    <tr>\n",
       "      <th>518</th>\n",
       "      <td>B000A3NHJS</td>\n",
       "      <td>A7QT04TT3PXOP</td>\n",
       "      <td>1.0</td>\n",
       "      <td>4.320545</td>\n",
       "      <td>{'was_impossible': True, 'reason': 'User and/o...</td>\n",
       "      <td>0</td>\n",
       "      <td>16</td>\n",
       "      <td>3.320545</td>\n",
       "    </tr>\n",
       "    <tr>\n",
       "      <th>181</th>\n",
       "      <td>B00006HYMK</td>\n",
       "      <td>A12DLJESJKM1OQ</td>\n",
       "      <td>1.0</td>\n",
       "      <td>4.375000</td>\n",
       "      <td>{'actual_k': 0, 'was_impossible': False}</td>\n",
       "      <td>1</td>\n",
       "      <td>24</td>\n",
       "      <td>3.375000</td>\n",
       "    </tr>\n",
       "    <tr>\n",
       "      <th>1048</th>\n",
       "      <td>B000261N6M</td>\n",
       "      <td>A23ONMGKEWDG4M</td>\n",
       "      <td>1.0</td>\n",
       "      <td>4.428571</td>\n",
       "      <td>{'actual_k': 0, 'was_impossible': False}</td>\n",
       "      <td>1</td>\n",
       "      <td>21</td>\n",
       "      <td>3.428571</td>\n",
       "    </tr>\n",
       "    <tr>\n",
       "      <th>542</th>\n",
       "      <td>B0000658CH</td>\n",
       "      <td>A23ONMGKEWDG4M</td>\n",
       "      <td>1.0</td>\n",
       "      <td>4.428571</td>\n",
       "      <td>{'actual_k': 0, 'was_impossible': False}</td>\n",
       "      <td>2</td>\n",
       "      <td>21</td>\n",
       "      <td>3.428571</td>\n",
       "    </tr>\n",
       "    <tr>\n",
       "      <th>222</th>\n",
       "      <td>B0002JFOKK</td>\n",
       "      <td>AVSMRPI23DQI2</td>\n",
       "      <td>1.0</td>\n",
       "      <td>4.500000</td>\n",
       "      <td>{'actual_k': 0, 'was_impossible': False}</td>\n",
       "      <td>8</td>\n",
       "      <td>16</td>\n",
       "      <td>3.500000</td>\n",
       "    </tr>\n",
       "    <tr>\n",
       "      <th>390</th>\n",
       "      <td>B0002JFN60</td>\n",
       "      <td>AVSMRPI23DQI2</td>\n",
       "      <td>1.0</td>\n",
       "      <td>4.500000</td>\n",
       "      <td>{'actual_k': 0, 'was_impossible': False}</td>\n",
       "      <td>6</td>\n",
       "      <td>16</td>\n",
       "      <td>3.500000</td>\n",
       "    </tr>\n",
       "    <tr>\n",
       "      <th>169</th>\n",
       "      <td>B00006HYKM</td>\n",
       "      <td>A5JLAU2ARJ0BO</td>\n",
       "      <td>1.0</td>\n",
       "      <td>4.591160</td>\n",
       "      <td>{'actual_k': 1, 'was_impossible': False}</td>\n",
       "      <td>4</td>\n",
       "      <td>158</td>\n",
       "      <td>3.591160</td>\n",
       "    </tr>\n",
       "    <tr>\n",
       "      <th>39</th>\n",
       "      <td>B0000AAAPF</td>\n",
       "      <td>A2XRMQA6PJ5ZJ8</td>\n",
       "      <td>1.0</td>\n",
       "      <td>4.628571</td>\n",
       "      <td>{'actual_k': 0, 'was_impossible': False}</td>\n",
       "      <td>2</td>\n",
       "      <td>35</td>\n",
       "      <td>3.628571</td>\n",
       "    </tr>\n",
       "    <tr>\n",
       "      <th>934</th>\n",
       "      <td>B0000C0XS0</td>\n",
       "      <td>A3977M5S0GIG5H</td>\n",
       "      <td>1.0</td>\n",
       "      <td>4.764706</td>\n",
       "      <td>{'actual_k': 0, 'was_impossible': False}</td>\n",
       "      <td>1</td>\n",
       "      <td>17</td>\n",
       "      <td>3.764706</td>\n",
       "    </tr>\n",
       "  </tbody>\n",
       "</table>\n",
       "</div>"
      ],
      "text/plain": [
       "             uid             iid  rui       est  \\\n",
       "891   B0002G81J4   A5JLAU2ARJ0BO  1.0  4.320545   \n",
       "518   B000A3NHJS   A7QT04TT3PXOP  1.0  4.320545   \n",
       "181   B00006HYMK  A12DLJESJKM1OQ  1.0  4.375000   \n",
       "1048  B000261N6M  A23ONMGKEWDG4M  1.0  4.428571   \n",
       "542   B0000658CH  A23ONMGKEWDG4M  1.0  4.428571   \n",
       "222   B0002JFOKK   AVSMRPI23DQI2  1.0  4.500000   \n",
       "390   B0002JFN60   AVSMRPI23DQI2  1.0  4.500000   \n",
       "169   B00006HYKM   A5JLAU2ARJ0BO  1.0  4.591160   \n",
       "39    B0000AAAPF  A2XRMQA6PJ5ZJ8  1.0  4.628571   \n",
       "934   B0000C0XS0  A3977M5S0GIG5H  1.0  4.764706   \n",
       "\n",
       "                                                details  Iu   Ui       err  \n",
       "891   {'was_impossible': True, 'reason': 'User and/o...   0  158  3.320545  \n",
       "518   {'was_impossible': True, 'reason': 'User and/o...   0   16  3.320545  \n",
       "181            {'actual_k': 0, 'was_impossible': False}   1   24  3.375000  \n",
       "1048           {'actual_k': 0, 'was_impossible': False}   1   21  3.428571  \n",
       "542            {'actual_k': 0, 'was_impossible': False}   2   21  3.428571  \n",
       "222            {'actual_k': 0, 'was_impossible': False}   8   16  3.500000  \n",
       "390            {'actual_k': 0, 'was_impossible': False}   6   16  3.500000  \n",
       "169            {'actual_k': 1, 'was_impossible': False}   4  158  3.591160  \n",
       "39             {'actual_k': 0, 'was_impossible': False}   2   35  3.628571  \n",
       "934            {'actual_k': 0, 'was_impossible': False}   1   17  3.764706  "
      ]
     },
     "execution_count": 25,
     "metadata": {},
     "output_type": "execute_result"
    }
   ],
   "source": [
    "print(\"worst predictions: \")\n",
    "worst_predictions.head(10)"
   ]
  },
  {
   "cell_type": "code",
   "execution_count": 26,
   "metadata": {},
   "outputs": [
    {
     "name": "stdout",
     "output_type": "stream",
     "text": [
      "0.999349910902053\n",
      "{'n_epochs': 10, 'lr_all': 0.005, 'reg_all': 0.4}\n"
     ]
    }
   ],
   "source": [
    "#model based approach\n",
    "param_grid = {\n",
    "    \"n_epochs\": [5, 10],\n",
    "    \"lr_all\": [0.002, 0.005],\n",
    "    \"reg_all\": [0.4, 0.6]\n",
    "}\n",
    "gs = GridSearchCV(SVD, param_grid, measures=[\"rmse\", \"mae\"], cv=3)\n",
    "gs.fit(data)\n",
    "print(gs.best_score[\"rmse\"])\n",
    "print(gs.best_params[\"rmse\"])"
   ]
  },
  {
   "cell_type": "code",
   "execution_count": 27,
   "metadata": {},
   "outputs": [
    {
     "name": "stdout",
     "output_type": "stream",
     "text": [
      "Evaluating RMSE, MAE of algorithm SVD on 5 split(s).\n",
      "\n",
      "                  Fold 1  Fold 2  Fold 3  Fold 4  Fold 5  Mean    Std     \n",
      "RMSE (testset)    0.9618  0.9970  1.0592  0.9658  0.9939  0.9955  0.0349  \n",
      "MAE (testset)     0.7305  0.7585  0.7794  0.7202  0.7568  0.7491  0.0212  \n",
      "Fit time          0.22    0.22    0.22    0.21    0.23    0.22    0.01    \n",
      "Test time         0.01    0.02    0.01    0.01    0.01    0.01    0.00    \n"
     ]
    }
   ],
   "source": [
    "svd_algo = SVD(n_epochs=10,lr_all= 0.005,  reg_all= 0.4)\n",
    "#cross validate the model\n",
    "output=cross_validate(svd_algo,data,verbose=True)"
   ]
  },
  {
   "cell_type": "code",
   "execution_count": 28,
   "metadata": {},
   "outputs": [
    {
     "data": {
      "text/plain": [
       "Prediction(uid='A3OXHLG6DIBRW8', iid='A11ED8O95W2103', r_ui=5, est=4.204523100044157, details={'was_impossible': False})"
      ]
     },
     "execution_count": 28,
     "metadata": {},
     "output_type": "execute_result"
    }
   ],
   "source": [
    "#now the model is performing reasonably\n",
    "# make predictions from it\n",
    "#lets take a user A3OXHLG6DIBRW8 and make test data to predict\n",
    "#first lets take a list of all product ids\n",
    "all_items=ratings_df['product_id'].unique()\n",
    "#get all product ids that the selected user has rated\n",
    "rated_items=ratings_df.loc[ratings_df['user_id']=='A3OXHLG6DIBRW8','product_id']\n",
    "#take products that the selected users have not rated\n",
    "to_predict=np.setdiff1d(all_items,rated_items)\n",
    "\n",
    "#create test data\n",
    "test=[['A3OXHLG6DIBRW8',id,5]for id in to_predict]\n",
    "prediction=svd_algo.test(test)\n",
    "prediction[0]"
   ]
  },
  {
   "cell_type": "code",
   "execution_count": 29,
   "metadata": {},
   "outputs": [
    {
     "data": {
      "text/plain": [
       "[('A3REK3OFONWB1Q', 4.696719947076253),\n",
       " ('A25HBO5V8S8SEA', 4.656015056479068),\n",
       " ('A25E8V5JMW43RY', 4.652674102707334),\n",
       " ('A1JWSDDIH5Z7DV', 4.6525387678927395),\n",
       " ('A2HMF8ZR67BNZS', 4.650783605399729)]"
      ]
     },
     "execution_count": 29,
     "metadata": {},
     "output_type": "execute_result"
    }
   ],
   "source": [
    "#recommend top 5 products for user A3OXHLG6DIBRW8\n",
    "recom=[]\n",
    "for p in prediction:\n",
    "    recom+=[(p.iid,p.est)]\n",
    "sorted(recom,key=lambda x: x[1],reverse=True)[:5]"
   ]
  }
 ],
 "metadata": {
  "kernelspec": {
   "display_name": "Python 3",
   "language": "python",
   "name": "python3"
  },
  "language_info": {
   "codemirror_mode": {
    "name": "ipython",
    "version": 3
   },
   "file_extension": ".py",
   "mimetype": "text/x-python",
   "name": "python",
   "nbconvert_exporter": "python",
   "pygments_lexer": "ipython3",
   "version": "3.8.3"
  }
 },
 "nbformat": 4,
 "nbformat_minor": 4
}
